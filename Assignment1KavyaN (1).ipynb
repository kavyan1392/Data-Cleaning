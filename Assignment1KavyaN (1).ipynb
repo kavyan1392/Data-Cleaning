{
 "cells": [
  {
   "cell_type": "markdown",
   "metadata": {},
   "source": [
    "## Data Cleaning for Food Inspection,Chicago."
   ]
  },
  {
   "cell_type": "code",
   "execution_count": null,
   "metadata": {},
   "outputs": [],
   "source": [
    "import csv\n",
    "food = list(csv.DictReader(open('Food_Inspections.csv')))\n",
    "len(food)"
   ]
  },
  {
   "cell_type": "markdown",
   "metadata": {},
   "source": [
    "### Cleaning the Spelling Mistakes in 'DBA Name' "
   ]
  },
  {
   "cell_type": "code",
   "execution_count": null,
   "metadata": {
    "collapsed": true
   },
   "outputs": [],
   "source": [
    "from collections import Counter"
   ]
  },
  {
   "cell_type": "code",
   "execution_count": null,
   "metadata": {},
   "outputs": [],
   "source": [
    "dba= [row['DBA Name'] for row in food]"
   ]
  },
  {
   "cell_type": "code",
   "execution_count": null,
   "metadata": {
    "collapsed": true
   },
   "outputs": [],
   "source": [
    "dba = Counter(row['DBA Name'] for row in food) ## counting the no. of unique rows in 'DBA Name' using Counter."
   ]
  },
  {
   "cell_type": "code",
   "execution_count": null,
   "metadata": {},
   "outputs": [],
   "source": [
    "dba.most_common(10) ## Finding out the more frequent entry in 'DBA Name using most_common."
   ]
  },
  {
   "cell_type": "markdown",
   "metadata": {},
   "source": [
    "### Cleaning data for MCDONALDS"
   ]
  },
  {
   "cell_type": "code",
   "execution_count": null,
   "metadata": {
    "collapsed": true
   },
   "outputs": [],
   "source": [
    "MCD=[row for row in food if row['DBA Name'].startswith('MCDONALD')]"
   ]
  },
  {
   "cell_type": "code",
   "execution_count": null,
   "metadata": {},
   "outputs": [],
   "source": [
    "z=Counter(row['DBA Name'] for row in MCD)\n",
    "z.most_common(10) ## Below we can see differently spelled MCDONALDS"
   ]
  },
  {
   "cell_type": "code",
   "execution_count": null,
   "metadata": {
    "collapsed": true
   },
   "outputs": [],
   "source": [
    "DBA=[row for row in food if row['DBA Name']!='']"
   ]
  },
  {
   "cell_type": "code",
   "execution_count": null,
   "metadata": {},
   "outputs": [],
   "source": [
    "len(DBA)"
   ]
  },
  {
   "cell_type": "code",
   "execution_count": null,
   "metadata": {},
   "outputs": [],
   "source": [
    "from collections import Counter\n",
    "DBA= [ {  **row, 'DBA Name': row['DBA Name'].replace(\"'\",\"\").upper() } for row in DBA] ## Replacing \"'\" with blank as a part of data cleaning \n",
    "DBA1 = Counter(row['DBA Name'] for row in DBA)\n",
    "DBA1.most_common(10) ## below we can see that \"MCDONALD'S\" has been changed to \"MCDONALDS\" and it applies to all other DBA names as well"
   ]
  },
  {
   "cell_type": "code",
   "execution_count": null,
   "metadata": {},
   "outputs": [],
   "source": [
    "DBA= [ {  **row, 'DBA Name': row['DBA Name'].replace(\"MC DONALDS\",\"MCDONALDS\").upper() } for row in DBA] ## Replacing \"'\" with blank as a part of data cleaning \n",
    "DBA1 = Counter(row['DBA Name'] for row in DBA)\n",
    "DBA1.most_common(10)"
   ]
  },
  {
   "cell_type": "code",
   "execution_count": null,
   "metadata": {},
   "outputs": [],
   "source": [
    "DBA= [ {  **row, 'DBA Name': row['DBA Name'].replace(\"MCDONALDS RESTAURANT\",\"MCDONALDS\").upper() } for row in DBA] ## Replacing \"'\" with blank as a part of data cleaning \n",
    "DBA1 = Counter(row['DBA Name'] for row in DBA)\n",
    "DBA1.most_common(10)"
   ]
  },
  {
   "cell_type": "code",
   "execution_count": null,
   "metadata": {},
   "outputs": [],
   "source": [
    "DBA= [ {  **row, 'DBA Name': row['DBA Name'].replace(\"MCDONALDS CORPORATION\",\"MCDONALDS\").upper() } for row in DBA] ## Replacing \"'\" with blank as a part of data cleaning \n",
    "DBA1 = Counter(row['DBA Name'] for row in DBA)\n",
    "DBA1.most_common(10)"
   ]
  },
  {
   "cell_type": "code",
   "execution_count": null,
   "metadata": {},
   "outputs": [],
   "source": [
    "MCD1=[row for row in DBA if row['DBA Name'].startswith('MCDONALD')]\n",
    "z1=Counter(row['DBA Name'] for row in MCD1 )\n",
    "z1.most_common(3) "
   ]
  },
  {
   "cell_type": "markdown",
   "metadata": {},
   "source": [
    "### Cleaning data for SUBWAY."
   ]
  },
  {
   "cell_type": "code",
   "execution_count": null,
   "metadata": {},
   "outputs": [],
   "source": [
    "SUB=[row for row in DBA if row['DBA Name'].startswith('SUBWAY')]\n",
    "x=Counter(row['DBA Name'] for row in SUB )\n",
    "x.most_common(10)"
   ]
  },
  {
   "cell_type": "code",
   "execution_count": null,
   "metadata": {
    "collapsed": true
   },
   "outputs": [],
   "source": [
    "DBA= [ {  **row, 'DBA Name': row['DBA Name'].replace(\"SUBWAY SANDWICH\",\"SUBWAY\").upper() } for row in DBA] "
   ]
  },
  {
   "cell_type": "code",
   "execution_count": null,
   "metadata": {
    "collapsed": true
   },
   "outputs": [],
   "source": [
    "DBA= [ {  **row, 'DBA Name': row['DBA Name'].replace(\"SUBWAY RESTAURANT\",\"SUBWAY\").upper() } for row in DBA] "
   ]
  },
  {
   "cell_type": "code",
   "execution_count": null,
   "metadata": {
    "collapsed": true
   },
   "outputs": [],
   "source": [
    "DBA= [ {  **row, 'DBA Name': row['DBA Name'].replace(\"SUBWAY SANDWICHES & SALADS\",\"SUBWAY\").upper() } for row in DBA] "
   ]
  },
  {
   "cell_type": "code",
   "execution_count": null,
   "metadata": {
    "collapsed": true
   },
   "outputs": [],
   "source": [
    "DBA= [ {  **row, 'DBA Name': row['DBA Name'].replace(\"SUBWAYES\",\"SUBWAY\").upper() } for row in DBA] "
   ]
  },
  {
   "cell_type": "code",
   "execution_count": null,
   "metadata": {
    "collapsed": true
   },
   "outputs": [],
   "source": [
    "DBA= [ {  **row, 'DBA Name': row['DBA Name'].replace('SUBWAY & SALAD',\"SUBWAY\").upper() } for row in DBA] "
   ]
  },
  {
   "cell_type": "code",
   "execution_count": null,
   "metadata": {
    "collapsed": true
   },
   "outputs": [],
   "source": [
    "DBA= [ {  **row, 'DBA Name': row['DBA Name'].replace('SUBWAYS',\"SUBWAY\").upper() } for row in DBA] "
   ]
  },
  {
   "cell_type": "code",
   "execution_count": null,
   "metadata": {},
   "outputs": [],
   "source": [
    "DBA= [ {  **row, 'DBA Name': row['DBA Name'].replace('SUBWAY SHOP',\"SUBWAY\").upper() } for row in DBA]  "
   ]
  },
  {
   "cell_type": "code",
   "execution_count": null,
   "metadata": {},
   "outputs": [],
   "source": [
    "SUB=[row for row in DBA if row['DBA Name'].startswith('SUBWAY')]\n",
    "x=Counter(row['DBA Name'] for row in SUB )\n",
    "x.most_common(10)"
   ]
  },
  {
   "cell_type": "markdown",
   "metadata": {},
   "source": [
    "### Cleaning data for DUNKIN DONUTS"
   ]
  },
  {
   "cell_type": "code",
   "execution_count": null,
   "metadata": {},
   "outputs": [],
   "source": [
    "DUN=[row for row in DBA if row['DBA Name'].startswith('DUNKIN DONUTS')]\n",
    "x=Counter(row['DBA Name'] for row in DUN )\n",
    "x.most_common(15)"
   ]
  },
  {
   "cell_type": "code",
   "execution_count": null,
   "metadata": {
    "collapsed": true
   },
   "outputs": [],
   "source": [
    "DBA= [ {  **row, 'DBA Name': row['DBA Name'].replace('DUNKIN DONUTS / BASKIN ROBINS','DUNKIN DONUTS/BASKIN ROBBINS').upper() } for row in DBA] "
   ]
  },
  {
   "cell_type": "code",
   "execution_count": null,
   "metadata": {
    "collapsed": true
   },
   "outputs": [],
   "source": [
    "DBA= [ {  **row, 'DBA Name': row['DBA Name'].replace('DUNKIN DONUTS/BASKINROBBINS','DUNKIN DONUTS/BASKIN ROBBINS').upper() } for row in DBA] "
   ]
  },
  {
   "cell_type": "code",
   "execution_count": null,
   "metadata": {
    "collapsed": true
   },
   "outputs": [],
   "source": [
    "DBA= [ {  **row, 'DBA Name': row['DBA Name'].replace('DUNKIN DONUTS/ BASKIN ROBBINS','DUNKIN DONUTS/BASKIN ROBBINS').upper() } for row in DBA] "
   ]
  },
  {
   "cell_type": "code",
   "execution_count": null,
   "metadata": {
    "collapsed": true
   },
   "outputs": [],
   "source": [
    "DBA= [ {  **row, 'DBA Name': row['DBA Name'].replace('DUNKIN DONUTS INC','DUNKIN DONUTS').upper() } for row in DBA] \n",
    "DBA1 = Counter(row['DBA Name'] for row in DBA)"
   ]
  },
  {
   "cell_type": "code",
   "execution_count": null,
   "metadata": {},
   "outputs": [],
   "source": [
    "DBA1.most_common(10)"
   ]
  },
  {
   "cell_type": "markdown",
   "metadata": {},
   "source": [
    "### Cleaning data for 7-ELEVEN"
   ]
  },
  {
   "cell_type": "code",
   "execution_count": null,
   "metadata": {},
   "outputs": [],
   "source": [
    "ELE=[row for row in DBA if row['DBA Name'].startswith('7-ELEVEN')]\n",
    "x=Counter(row['DBA Name'] for row in ELE )\n",
    "x.most_common(10)"
   ]
  },
  {
   "cell_type": "code",
   "execution_count": null,
   "metadata": {
    "collapsed": true
   },
   "outputs": [],
   "source": [
    "DBA= [ {  **row, 'DBA Name': row['DBA Name'].replace('7-ELEVEN #32889B','7-ELEVEN').upper() } for row in DBA]  "
   ]
  },
  {
   "cell_type": "code",
   "execution_count": null,
   "metadata": {
    "collapsed": true
   },
   "outputs": [],
   "source": [
    "DBA= [ {  **row, 'DBA Name': row['DBA Name'].replace('7-ELEVEN #33921B','7-ELEVEN').upper() } for row in DBA]  \n",
    "DBA1 = Counter(row['DBA Name'] for row in DBA)"
   ]
  },
  {
   "cell_type": "code",
   "execution_count": null,
   "metadata": {},
   "outputs": [],
   "source": [
    "DBA1.most_common(5)"
   ]
  },
  {
   "cell_type": "markdown",
   "metadata": {},
   "source": [
    "### Cleaning data for CHIPOTLE MEXICAN GRILL"
   ]
  },
  {
   "cell_type": "code",
   "execution_count": null,
   "metadata": {},
   "outputs": [],
   "source": [
    "CHI=[row for row in DBA if row['DBA Name'].startswith('CHIPOTLE MEXICAN GRILL')]\n",
    "x=Counter(row['DBA Name'] for row in CHI )\n",
    "x.most_common(10)"
   ]
  },
  {
   "cell_type": "code",
   "execution_count": null,
   "metadata": {
    "collapsed": true
   },
   "outputs": [],
   "source": [
    "DBA= [ {  **row, 'DBA Name': row['DBA Name'].replace('CHIPOTLE MEXICAN GRILL #1979','CHIPOTLE MEXICAN GRILL').upper() } for row in DBA] "
   ]
  },
  {
   "cell_type": "code",
   "execution_count": null,
   "metadata": {
    "collapsed": true
   },
   "outputs": [],
   "source": [
    "DBA= [ {  **row, 'DBA Name': row['DBA Name'].replace('CHIPOTLE MEXICAN GRILL#2768','CHIPOTLE MEXICAN GRILL').upper() } for row in DBA] "
   ]
  },
  {
   "cell_type": "code",
   "execution_count": null,
   "metadata": {
    "collapsed": true
   },
   "outputs": [],
   "source": [
    "DBA= [ {  **row, 'DBA Name': row['DBA Name'].replace('CHIPOTLE MEXICAN GRILL #2409','CHIPOTLE MEXICAN GRILL').upper() } for row in DBA]  \n",
    "DBA1 = Counter(row['DBA Name'] for row in DBA)"
   ]
  },
  {
   "cell_type": "code",
   "execution_count": null,
   "metadata": {},
   "outputs": [],
   "source": [
    "DBA1.most_common(10)"
   ]
  },
  {
   "cell_type": "markdown",
   "metadata": {},
   "source": [
    "### Cleaning the spelling mistakes in 'AKA Name'"
   ]
  },
  {
   "cell_type": "code",
   "execution_count": null,
   "metadata": {
    "collapsed": true
   },
   "outputs": [],
   "source": [
    "aka = Counter(row['AKA Name'] for row in food)"
   ]
  },
  {
   "cell_type": "code",
   "execution_count": null,
   "metadata": {},
   "outputs": [],
   "source": [
    "aka.most_common(25)"
   ]
  },
  {
   "cell_type": "markdown",
   "metadata": {},
   "source": [
    "###  Cleaning data for MCDONALDS in AKA Name"
   ]
  },
  {
   "cell_type": "code",
   "execution_count": null,
   "metadata": {
    "collapsed": true
   },
   "outputs": [],
   "source": [
    "MCD1=[row for row in food if row['AKA Name'].startswith('MCDONALD')]"
   ]
  },
  {
   "cell_type": "code",
   "execution_count": null,
   "metadata": {},
   "outputs": [],
   "source": [
    "z1=Counter(row['AKA Name'] for row in MCD1)\n",
    "z1.most_common(15) "
   ]
  },
  {
   "cell_type": "code",
   "execution_count": null,
   "metadata": {},
   "outputs": [],
   "source": [
    "DBA= [ {  **row, 'AKA Name': row['AKA Name'].replace(\"'\",\"\").upper() } for row in DBA] ## Replacing \"'\" with blank as a part of data cleaning \n",
    "DBA1 = Counter(row['AKA Name'] for row in DBA)\n",
    "DBA1.most_common(10) ## below we can see that \"MCDONALD'S\" has been changed to \"MCDONALDS\" and it applies to all other AKA names as well"
   ]
  },
  {
   "cell_type": "code",
   "execution_count": null,
   "metadata": {
    "collapsed": true
   },
   "outputs": [],
   "source": [
    "DBA= [ {  **row, 'AKA Name': row['AKA Name'].replace(\"MCDONALDS RESTAURANT\",\"MCDONALDS\").upper() } for row in DBA] "
   ]
  },
  {
   "cell_type": "code",
   "execution_count": null,
   "metadata": {
    "collapsed": true
   },
   "outputs": [],
   "source": [
    "DBA= [ {  **row, 'AKA Name': row['AKA Name'].replace(\"MCDONALD'S RESTAURANT\",\"MCDONALDS\").upper() } for row in DBA]  "
   ]
  },
  {
   "cell_type": "code",
   "execution_count": null,
   "metadata": {
    "collapsed": true
   },
   "outputs": [],
   "source": [
    "DBA= [ {  **row, 'AKA Name': row['AKA Name'].replace(\"MC DONALDS\",\"MCDONALDS\").upper() } for row in DBA]  "
   ]
  },
  {
   "cell_type": "code",
   "execution_count": null,
   "metadata": {
    "collapsed": true
   },
   "outputs": [],
   "source": [
    "DBA= [ {  **row, 'AKA Name': row['AKA Name'].replace(\"MCDONALD'S RESTAURANTS\",\"MCDONALDS\").upper() } for row in DBA]  \n",
    "DBA1 = Counter(row['AKA Name'] for row in DBA)"
   ]
  },
  {
   "cell_type": "code",
   "execution_count": null,
   "metadata": {},
   "outputs": [],
   "source": [
    "DBA1.most_common(10)"
   ]
  },
  {
   "cell_type": "markdown",
   "metadata": {},
   "source": [
    "### Cleaning the data in SUBWAY in AKA Name"
   ]
  },
  {
   "cell_type": "code",
   "execution_count": null,
   "metadata": {},
   "outputs": [],
   "source": [
    "SUB=[row for row in DBA if row['AKA Name'].startswith('SUBWAY')]\n",
    "x=Counter(row['AKA Name'] for row in SUB )\n",
    "x.most_common(10)"
   ]
  },
  {
   "cell_type": "code",
   "execution_count": null,
   "metadata": {
    "collapsed": true
   },
   "outputs": [],
   "source": [
    "DBA= [ {  **row, 'AKA Name': row['AKA Name'].replace(\"SUBWAY SANDWICHES\",\"SUBWAY\").upper() } for row in DBA]  "
   ]
  },
  {
   "cell_type": "code",
   "execution_count": null,
   "metadata": {
    "collapsed": true
   },
   "outputs": [],
   "source": [
    "DBA= [ {  **row, 'AKA Name': row['AKA Name'].replace('SUBWAY SANDWICH',\"SUBWAY\").upper() } for row in DBA]  "
   ]
  },
  {
   "cell_type": "code",
   "execution_count": null,
   "metadata": {
    "collapsed": true
   },
   "outputs": [],
   "source": [
    "DBA= [ {  **row, 'AKA Name': row['AKA Name'].replace('SUBWAY SANDWICH & SALAD',\"SUBWAY\").upper() } for row in DBA]  "
   ]
  },
  {
   "cell_type": "code",
   "execution_count": null,
   "metadata": {
    "collapsed": true
   },
   "outputs": [],
   "source": [
    "DBA= [ {  **row, 'AKA Name': row['AKA Name'].replace('SUBWAY SANDWICHES & SALADS',\"SUBWAY\").upper() } for row in DBA] "
   ]
  },
  {
   "cell_type": "code",
   "execution_count": null,
   "metadata": {
    "collapsed": true
   },
   "outputs": [],
   "source": [
    "DBA1 = Counter(row['AKA Name'] for row in DBA)"
   ]
  },
  {
   "cell_type": "code",
   "execution_count": null,
   "metadata": {},
   "outputs": [],
   "source": [
    "DBA1.most_common(5)"
   ]
  },
  {
   "cell_type": "markdown",
   "metadata": {},
   "source": [
    "### Cleaning the data for DUNKIN DONUTS in AKA Name"
   ]
  },
  {
   "cell_type": "code",
   "execution_count": null,
   "metadata": {},
   "outputs": [],
   "source": [
    "DUN=[row for row in DBA if row['AKA Name'].startswith('DUNKIN')]\n",
    "x=Counter(row['AKA Name'] for row in DUN )\n",
    "x.most_common(10)"
   ]
  },
  {
   "cell_type": "code",
   "execution_count": null,
   "metadata": {
    "collapsed": true
   },
   "outputs": [],
   "source": [
    "DBA1 = Counter(row['AKA Name'] for row in DBA)"
   ]
  },
  {
   "cell_type": "code",
   "execution_count": null,
   "metadata": {
    "collapsed": true
   },
   "outputs": [],
   "source": [
    "DBA= [ {  **row, 'AKA Name': row['AKA Name'].replace('DUNKIN DONUTS BASKIN ROBBINS','DUNKIN DONUTS/BASKIN ROBBINS').upper() } for row in DBA]"
   ]
  },
  {
   "cell_type": "code",
   "execution_count": null,
   "metadata": {
    "collapsed": true
   },
   "outputs": [],
   "source": [
    "DBA= [ {  **row, 'AKA Name': row['AKA Name'].replace('DUNKIN DONUTS / BASKIN ROBBINS','DUNKIN DONUTS/BASKIN ROBBINS').upper() } for row in DBA]"
   ]
  },
  {
   "cell_type": "code",
   "execution_count": null,
   "metadata": {
    "collapsed": true
   },
   "outputs": [],
   "source": [
    "DBA1 = Counter(row['AKA Name'] for row in DBA)"
   ]
  },
  {
   "cell_type": "code",
   "execution_count": null,
   "metadata": {},
   "outputs": [],
   "source": [
    "DBA1.most_common(10)"
   ]
  },
  {
   "cell_type": "markdown",
   "metadata": {},
   "source": [
    "### Cleaning data for 7-ELEVEN in AKA Name"
   ]
  },
  {
   "cell_type": "code",
   "execution_count": null,
   "metadata": {},
   "outputs": [],
   "source": [
    "ELE=[row for row in DBA if row['AKA Name'].startswith('7-ELEVEN')]\n",
    "x=Counter(row['AKA Name'] for row in ELE )\n",
    "x.most_common(10)"
   ]
  },
  {
   "cell_type": "code",
   "execution_count": null,
   "metadata": {
    "collapsed": true
   },
   "outputs": [],
   "source": [
    "DBA= [ {  **row, 'AKA Name': row['AKA Name'].replace('7-ELEVEN #33725','7-ELEVEN').upper() } for row in DBA]"
   ]
  },
  {
   "cell_type": "code",
   "execution_count": null,
   "metadata": {
    "collapsed": true
   },
   "outputs": [],
   "source": [
    "DBA= [ {  **row, 'AKA Name': row['AKA Name'].replace('7-ELEVEN #33732A','7-ELEVEN').upper() } for row in DBA]"
   ]
  },
  {
   "cell_type": "code",
   "execution_count": null,
   "metadata": {
    "collapsed": true
   },
   "outputs": [],
   "source": [
    "DBA1 = Counter(row['AKA Name'] for row in DBA)"
   ]
  },
  {
   "cell_type": "code",
   "execution_count": null,
   "metadata": {},
   "outputs": [],
   "source": [
    "DBA1.most_common(10)"
   ]
  },
  {
   "cell_type": "markdown",
   "metadata": {},
   "source": [
    "### Cleaning for CHIPOTLE MEXICAN GRILL in AKA Name"
   ]
  },
  {
   "cell_type": "code",
   "execution_count": null,
   "metadata": {},
   "outputs": [],
   "source": [
    "CHI=[row for row in DBA if row['AKA Name'].startswith('CHIPOTLE MEXICAN GRILL')]\n",
    "x=Counter(row['AKA Name'] for row in CHI )\n",
    "x.most_common(10)"
   ]
  },
  {
   "cell_type": "code",
   "execution_count": null,
   "metadata": {
    "collapsed": true
   },
   "outputs": [],
   "source": [
    "DBA= [ {  **row, 'AKA Name': row['AKA Name'].replace('CHIPOTLE MEXICAN GRILL #2923','CHIPOTLE MEXICAN GRILL').upper() } for row in DBA]"
   ]
  },
  {
   "cell_type": "code",
   "execution_count": null,
   "metadata": {
    "collapsed": true
   },
   "outputs": [],
   "source": [
    "DBA1 = Counter(row['AKA Name'] for row in DBA)"
   ]
  },
  {
   "cell_type": "code",
   "execution_count": null,
   "metadata": {},
   "outputs": [],
   "source": [
    "DBA1.most_common(10)"
   ]
  },
  {
   "cell_type": "markdown",
   "metadata": {},
   "source": [
    "### Replacing the 'blank AKA Name' with 'DBA Name'"
   ]
  },
  {
   "cell_type": "code",
   "execution_count": null,
   "metadata": {},
   "outputs": [],
   "source": [
    "AKA=[row for row in DBA if row['AKA Name']=='']\n",
    "DBA1 = Counter(row['AKA Name'] for row in AKA)\n",
    "DBA1.most_common() ## there are few blank spaces in AKA Names which can be replaced with DBA Name\n"
   ]
  },
  {
   "cell_type": "code",
   "execution_count": null,
   "metadata": {
    "collapsed": true
   },
   "outputs": [],
   "source": [
    "for row in AKA:\n",
    "    row['AKA Name']=row['DBA Name']"
   ]
  },
  {
   "cell_type": "code",
   "execution_count": null,
   "metadata": {},
   "outputs": [],
   "source": [
    "AKA=[row for row in DBA if row['AKA Name']=='']\n",
    "DBA1 = Counter(row['AKA Name'] for row in AKA)\n",
    "DBA1.most_common()## All the blank spaces are been replaced with the DBA Name"
   ]
  },
  {
   "cell_type": "markdown",
   "metadata": {},
   "source": [
    "### Cleaning the data in License number Column"
   ]
  },
  {
   "cell_type": "code",
   "execution_count": null,
   "metadata": {},
   "outputs": [],
   "source": [
    "Li=[row for row in DBA if row['License #']=='']\n",
    "DBA1 = Counter(row['License #'] for row in Li)\n",
    "DBA1.most_common() ## there are few blank spaces in License # which can be replaced with 'No License'"
   ]
  },
  {
   "cell_type": "code",
   "execution_count": null,
   "metadata": {
    "collapsed": true
   },
   "outputs": [],
   "source": [
    "for row in Li:\n",
    "    row['License #']='No License' \n",
    "## replacing the blank space with 'No License' because for \"Facility Type\":Special Event and \n",
    "##Church, License number will not be provided,"
   ]
  },
  {
   "cell_type": "code",
   "execution_count": null,
   "metadata": {},
   "outputs": [],
   "source": [
    "Li=[row for row in DBA if row['License #']=='']\n",
    "DBA1 = Counter(row['License #'] for row in Li)\n",
    "DBA1.most_common()"
   ]
  },
  {
   "cell_type": "markdown",
   "metadata": {},
   "source": [
    "### Cleaning the data in Risk Type Column"
   ]
  },
  {
   "cell_type": "code",
   "execution_count": null,
   "metadata": {},
   "outputs": [],
   "source": [
    "Ri=[row for row in DBA if row['Risk']=='']\n",
    "DBA1 = Counter(row['Risk'] for row in Ri)\n",
    "DBA1.most_common() ## there are few blank spaces in Risk Type which can be replaced with 'Risk not given'"
   ]
  },
  {
   "cell_type": "code",
   "execution_count": null,
   "metadata": {
    "collapsed": true
   },
   "outputs": [],
   "source": [
    "for row in Ri:\n",
    "    row['Risk']='Risk not given' "
   ]
  },
  {
   "cell_type": "code",
   "execution_count": null,
   "metadata": {},
   "outputs": [],
   "source": [
    "Ri=[row for row in DBA if row['Risk']=='']\n",
    "DBA1 = Counter(row['Risk'] for row in Ri)\n",
    "DBA1.most_common()"
   ]
  },
  {
   "cell_type": "markdown",
   "metadata": {},
   "source": [
    "### Cleaning the data in City Column"
   ]
  },
  {
   "cell_type": "code",
   "execution_count": null,
   "metadata": {
    "collapsed": true
   },
   "outputs": [],
   "source": [
    "city=[row for row in DBA if row['City']=='']\n",
    "## there are few blank spaces in City column which can be replaced with 'Not given'"
   ]
  },
  {
   "cell_type": "code",
   "execution_count": null,
   "metadata": {},
   "outputs": [],
   "source": [
    "len(city)"
   ]
  },
  {
   "cell_type": "code",
   "execution_count": null,
   "metadata": {
    "collapsed": true
   },
   "outputs": [],
   "source": [
    "for row in city:\n",
    "    row['City']='Not given' "
   ]
  },
  {
   "cell_type": "code",
   "execution_count": null,
   "metadata": {},
   "outputs": [],
   "source": [
    "city=[row for row in DBA if row['City']=='']\n",
    "len(city)"
   ]
  },
  {
   "cell_type": "code",
   "execution_count": null,
   "metadata": {},
   "outputs": [],
   "source": [
    "ccity=[row['City'] for row in DBA]\n",
    "ccity1= Counter(ccity)\n",
    "ccity1.most_common(10)\n",
    "# there are few spelling mistakes for the city CHICAGO.So replacing all the misspelt spelling with CHICAGO"
   ]
  },
  {
   "cell_type": "code",
   "execution_count": null,
   "metadata": {},
   "outputs": [],
   "source": [
    "DBA= [ {  **row, 'City': row['City'].replace('CCHICAGO','CHICAGO').upper() } for row in DBA]\n",
    "ccity=[row['City'] for row in DBA]\n",
    "ccity1= Counter(ccity)\n",
    "ccity1.most_common(10)"
   ]
  },
  {
   "cell_type": "code",
   "execution_count": null,
   "metadata": {},
   "outputs": [],
   "source": [
    "DBA= [ {  **row, 'City': row['City'].replace('312CHICAGO','CHICAGO').upper() } for row in DBA]"
   ]
  },
  {
   "cell_type": "code",
   "execution_count": null,
   "metadata": {},
   "outputs": [],
   "source": [
    "DBA= [ {  **row, 'City': row['City'].replace('CHCHICAGO','CHICAGO').upper() } for row in DBA]"
   ]
  },
  {
   "cell_type": "code",
   "execution_count": null,
   "metadata": {},
   "outputs": [],
   "source": [
    "DBA= [ {  **row, 'City': row['City'].replace('CHCICAGO','CHICAGO').upper() } for row in DBA]"
   ]
  },
  {
   "cell_type": "code",
   "execution_count": null,
   "metadata": {},
   "outputs": [],
   "source": [
    "DBA= [ {  **row, 'City': row['City'].replace('CHICAGO HEIGHTS','CHICAGO').upper() } for row in DBA]"
   ]
  },
  {
   "cell_type": "code",
   "execution_count": null,
   "metadata": {
    "collapsed": true
   },
   "outputs": [],
   "source": [
    "DBA= [ {  **row, 'City': row['City'].replace('CHICAGOI','CHICAGO').upper() } for row in DBA]"
   ]
  },
  {
   "cell_type": "code",
   "execution_count": null,
   "metadata": {
    "collapsed": true
   },
   "outputs": [],
   "source": [
    "DBA= [ {  **row, 'City': row['City'].replace('CCHICAGO','CHICAGO').upper() } for row in DBA]"
   ]
  },
  {
   "cell_type": "code",
   "execution_count": null,
   "metadata": {
    "collapsed": true
   },
   "outputs": [],
   "source": [
    "DBA= [ {  **row, 'City': row['City'].replace('CHICAGOCHICAGO','CHICAGO').upper() } for row in DBA]"
   ]
  },
  {
   "cell_type": "code",
   "execution_count": null,
   "metadata": {},
   "outputs": [],
   "source": [
    "ccity=[row['City'] for row in DBA]\n",
    "ccity1= Counter(ccity)\n",
    "ccity1.most_common(15)"
   ]
  },
  {
   "cell_type": "markdown",
   "metadata": {},
   "source": [
    "### Cleaning the data in State Column"
   ]
  },
  {
   "cell_type": "code",
   "execution_count": null,
   "metadata": {
    "collapsed": true
   },
   "outputs": [],
   "source": [
    "State = Counter(row['State'] for row in DBA)"
   ]
  },
  {
   "cell_type": "code",
   "execution_count": null,
   "metadata": {},
   "outputs": [],
   "source": [
    "State.most_common() ## since all the entries in state column is Illinois and the data is redundant\n",
    "## Removing the complete column using delete command."
   ]
  },
  {
   "cell_type": "code",
   "execution_count": null,
   "metadata": {
    "collapsed": true
   },
   "outputs": [],
   "source": [
    "for row in DBA:\n",
    "    del (row['State'])\n"
   ]
  },
  {
   "cell_type": "code",
   "execution_count": null,
   "metadata": {},
   "outputs": [],
   "source": [
    "DBA[0].keys()"
   ]
  },
  {
   "cell_type": "markdown",
   "metadata": {
    "collapsed": true
   },
   "source": [
    "### Cleaning the data in Latitude and Longitude Column"
   ]
  },
  {
   "cell_type": "code",
   "execution_count": null,
   "metadata": {
    "collapsed": true
   },
   "outputs": [],
   "source": [
    "## Since Latitude and Longitude has the same entry as Location, deleting Latitude and longitude columns"
   ]
  },
  {
   "cell_type": "code",
   "execution_count": null,
   "metadata": {},
   "outputs": [],
   "source": [
    "for row in DBA:\n",
    "    del (row['Latitude'])"
   ]
  },
  {
   "cell_type": "code",
   "execution_count": null,
   "metadata": {
    "collapsed": true
   },
   "outputs": [],
   "source": [
    "for row in DBA:\n",
    "    del (row['Longitude'])"
   ]
  },
  {
   "cell_type": "code",
   "execution_count": null,
   "metadata": {},
   "outputs": [],
   "source": [
    "DBA[0].keys()"
   ]
  },
  {
   "cell_type": "code",
   "execution_count": null,
   "metadata": {},
   "outputs": [],
   "source": [
    "DBA[3]"
   ]
  },
  {
   "cell_type": "markdown",
   "metadata": {},
   "source": [
    "### Cleaning the data in Location Column"
   ]
  },
  {
   "cell_type": "code",
   "execution_count": null,
   "metadata": {},
   "outputs": [],
   "source": [
    "Location=[row for row in DBA if row['Location']=='']\n",
    "## there are few blank spaces in Location column which can be replaced with 'Not given'"
   ]
  },
  {
   "cell_type": "code",
   "execution_count": null,
   "metadata": {},
   "outputs": [],
   "source": [
    "z=Counter(row['Location'] for row in Location)\n",
    "z.most_common(15)"
   ]
  },
  {
   "cell_type": "code",
   "execution_count": null,
   "metadata": {},
   "outputs": [],
   "source": [
    "for row in Location:\n",
    "    row['Location']='Not given'"
   ]
  },
  {
   "cell_type": "code",
   "execution_count": null,
   "metadata": {},
   "outputs": [],
   "source": [
    "z=Counter(row['Location'] for row in Location)\n",
    "z.most_common()"
   ]
  },
  {
   "cell_type": "markdown",
   "metadata": {
    "collapsed": true
   },
   "source": [
    "### Cleaning the data in Inspection Type Column"
   ]
  },
  {
   "cell_type": "code",
   "execution_count": null,
   "metadata": {},
   "outputs": [],
   "source": [
    "Insp=[row for row in DBA if row['Inspection Type']=='']\n",
    "Insp1 = Counter(row['Inspection Type'] for row in Insp)\n",
    "Insp1.most_common()\n",
    "## there are few blank spaces in Inspection Type column which can be replaced with 'Not given'"
   ]
  },
  {
   "cell_type": "code",
   "execution_count": null,
   "metadata": {},
   "outputs": [],
   "source": [
    "for row in DBA:\n",
    "    if (row['Inspection Type']==\"\"):\n",
    "        row['Inspection Type']='Not given'"
   ]
  },
  {
   "cell_type": "code",
   "execution_count": null,
   "metadata": {},
   "outputs": [],
   "source": [
    "Insp = Counter(row['Inspection Type'] for row in DBA)\n",
    "Insp.most_common()"
   ]
  },
  {
   "cell_type": "markdown",
   "metadata": {},
   "source": [
    "### Cleaning the data in Facility Type Column"
   ]
  },
  {
   "cell_type": "code",
   "execution_count": null,
   "metadata": {},
   "outputs": [],
   "source": [
    "Fac=[row for row in DBA if row['Facility Type']=='']\n",
    "Fac1 = Counter(row['Facility Type'] for row in Fac)\n",
    "Fac1.most_common()\n",
    "## there are few blank spaces in Facility column which can be replaced with 'Not given'"
   ]
  },
  {
   "cell_type": "code",
   "execution_count": null,
   "metadata": {
    "collapsed": true
   },
   "outputs": [],
   "source": [
    "for row in DBA:\n",
    "        if (row['Facility Type']==\"\"):\n",
    "            row['Facility Type']= \"Not given\""
   ]
  },
  {
   "cell_type": "code",
   "execution_count": null,
   "metadata": {},
   "outputs": [],
   "source": [
    "Fac1 = Counter(row['Facility Type'] for row in DBA)\n",
    "Fac1.most_common(5)"
   ]
  },
  {
   "cell_type": "markdown",
   "metadata": {},
   "source": [
    "### Cleaning the data in Violations Column"
   ]
  },
  {
   "cell_type": "code",
   "execution_count": null,
   "metadata": {},
   "outputs": [],
   "source": [
    "Vio=[row for row in DBA if row['Violations']=='']\n",
    "Vio = Counter(row['Violations'] for row in Vio)\n",
    "Vio.most_common()\n",
    "## there are few blank spaces in Violations column which can be replaced with 'Not given'"
   ]
  },
  {
   "cell_type": "code",
   "execution_count": null,
   "metadata": {},
   "outputs": [],
   "source": [
    "for row in DBA:\n",
    "        if (row['Violations']==\"\"):\n",
    "            row['Violations']= \"Not given\""
   ]
  },
  {
   "cell_type": "code",
   "execution_count": null,
   "metadata": {},
   "outputs": [],
   "source": [
    "Vio = Counter(row['Violations'] for row in DBA)\n",
    "Vio.most_common(1)"
   ]
  },
  {
   "cell_type": "markdown",
   "metadata": {},
   "source": [
    "### Cleaning the data in Zip column"
   ]
  },
  {
   "cell_type": "code",
   "execution_count": null,
   "metadata": {},
   "outputs": [],
   "source": [
    "Zip=[row for row in DBA if row['Zip']=='']\n",
    "Zip = Counter(row['Zip'] for row in Zip)\n",
    "Zip.most_common()\n",
    "## there are few blank spaces in Zip column which can be replaced with 'Not given'"
   ]
  },
  {
   "cell_type": "code",
   "execution_count": null,
   "metadata": {},
   "outputs": [],
   "source": [
    "for row in DBA:\n",
    "        if (row['Zip']==\"\"):\n",
    "            row['Zip']= \"Not given\""
   ]
  },
  {
   "cell_type": "code",
   "execution_count": null,
   "metadata": {},
   "outputs": [],
   "source": [
    "Zip1 = Counter(row['Zip'] for row in DBA)\n",
    "Zip1.most_common()"
   ]
  },
  {
   "cell_type": "markdown",
   "metadata": {},
   "source": [
    "### Transferring the data into excel sheet "
   ]
  },
  {
   "cell_type": "code",
   "execution_count": null,
   "metadata": {},
   "outputs": [],
   "source": [
    "with open('Assignment1KavyaN.csv', \"w\") as outf:\n",
    "    out_csv = csv.DictWriter(outf, list(DBA[0].keys())) \n",
    "    out_csv.writeheader()\n",
    "    out_csv.writerows(DBA)"
   ]
  }
 ],
 "metadata": {
  "kernelspec": {
   "display_name": "Python 3",
   "language": "python",
   "name": "python3"
  },
  "language_info": {
   "codemirror_mode": {
    "name": "ipython",
    "version": 3
   },
   "file_extension": ".py",
   "mimetype": "text/x-python",
   "name": "python",
   "nbconvert_exporter": "python",
   "pygments_lexer": "ipython3",
   "version": "3.6.2"
  }
 },
 "nbformat": 4,
 "nbformat_minor": 2
}
